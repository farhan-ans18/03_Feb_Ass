{
 "cells": [
  {
   "cell_type": "code",
   "execution_count": null,
   "id": "62517ffb-88bf-476f-8e11-c51342effd69",
   "metadata": {},
   "outputs": [],
   "source": [
    "#Q1.\n",
    "\n",
    "#ANS:-\n",
    "\n",
    "def functionName(parameters):\n",
    "  # function code here"
   ]
  },
  {
   "cell_type": "code",
   "execution_count": 2,
   "id": "f2be3743-ec6c-4432-a746-f52e6c7fe98e",
   "metadata": {},
   "outputs": [],
   "source": [
    "#Q1.\n",
    "\n",
    "def odd_numbers():\n",
    "    lst = []\n",
    "    for i in range(1,26):\n",
    "        if i%2!=0:\n",
    "            lst.append(i)\n",
    "    return lst           "
   ]
  },
  {
   "cell_type": "code",
   "execution_count": 3,
   "id": "529887f0-6e80-4da9-8c6b-eda6c82d2396",
   "metadata": {},
   "outputs": [
    {
     "data": {
      "text/plain": [
       "[1, 3, 5, 7, 9, 11, 13, 15, 17, 19, 21, 23, 25]"
      ]
     },
     "execution_count": 3,
     "metadata": {},
     "output_type": "execute_result"
    }
   ],
   "source": [
    "odd_numbers()"
   ]
  },
  {
   "cell_type": "code",
   "execution_count": 6,
   "id": "c79668ba-9912-4c5f-9070-c6207ef86067",
   "metadata": {},
   "outputs": [
    {
     "name": "stdout",
     "output_type": "stream",
     "text": [
      "sum:  6\n",
      "sum:  17\n",
      "sum:  31\n"
     ]
    }
   ],
   "source": [
    "#Q2.\n",
    "\n",
    "#Ans:-\n",
    "\n",
    "'''\n",
    "we use *args and **kwargs as an argument when we are unsure about the numbers of arguments to \n",
    "pass in the functions.\n",
    "\n",
    "->The *args allow us to pass the variable length of non-keyword arguments  to function.\n",
    "we use single aestrisk(*) before the parameter to denote this type of arguments.\n",
    "The *args pass the arguments as a Tuple and make tuple inside the function.\n",
    "\n",
    "Python passes variable length non-keyword argument to function using *args but we cannot use this to pass\n",
    "keyword arguments.\n",
    "\n",
    "->The **kwargs allow us to pass the variable length of keyword arguments to the function.\n",
    "We use double aestrisk(**) before the parameter to denote this type of arguments.\n",
    "The **kwargs passed the arguments as Dictionary and make dictionary inside the function.\n",
    "\n",
    "\n",
    "'''\n",
    "\n",
    "#Example using *args :\n",
    "\n",
    "def example_of_args(*num):\n",
    "    sum = 0\n",
    "    for i in num:\n",
    "        sum = sum + i\n",
    "    print(\"sum: \",sum) \n",
    "example_of_args(2,4)\n",
    "example_of_args(2,4,5,6)\n",
    "example_of_args(2,4,6,4,6,3,6)"
   ]
  },
  {
   "cell_type": "code",
   "execution_count": 9,
   "id": "80e21ef8-6ff5-4af6-aa50-0db75c452db6",
   "metadata": {},
   "outputs": [
    {
     "name": "stdout",
     "output_type": "stream",
     "text": [
      "Name : Farhan Ansari\n",
      "Age : 22\n",
      "phone : 12345\n",
      "country : wakanda forever\n",
      "Name : Aaliya Ansari\n",
      "Age : 20\n",
      "phone : 12345\n",
      "country : New Asgard\n"
     ]
    }
   ],
   "source": [
    "#Example using **kwargs :\n",
    "\n",
    "def example_of_kwargs(**data):\n",
    "    \n",
    "    for key, value in data.items():\n",
    "        print(\"{} : {}\".format(key, value))\n",
    "example_of_kwargs(Name = \"Farhan Ansari\", Age = 22 , phone = 12345, country = \"wakanda forever\") \n",
    "example_of_kwargs(Name = \"Aaliya Ansari\", Age = 20 , phone = 12345, country = \"New Asgard\") "
   ]
  },
  {
   "cell_type": "code",
   "execution_count": 10,
   "id": "aa976cf8-a4a9-4af3-b716-63be8d7bc45a",
   "metadata": {},
   "outputs": [
    {
     "name": "stdout",
     "output_type": "stream",
     "text": [
      "2\n",
      "4\n",
      "6\n",
      "8\n",
      "10\n"
     ]
    }
   ],
   "source": [
    "# Q3.\n",
    "#Ans:-\n",
    "\n",
    "'''\n",
    "In python, an itertaor is an object that allows us to traverse through a collection of data,\n",
    "one element at a time, without needing to know the underlying implentation details of the collection.\n",
    "\n",
    "A python iterator object must two special methods, __iter__() and __next__(),\n",
    "collectively called the iterator protocol.\n",
    "'''\n",
    "# Example 1 to print first five elements of the list(using iter() and next() )\n",
    "\n",
    "given_list = [2,4,6,8,10,12,14,16,18,20]\n",
    "iterator = iter(given_list)\n",
    "print(next(iterator))\n",
    "print(next(iterator))\n",
    "print(next(iterator))\n",
    "print(next(iterator))\n",
    "print(next(iterator))"
   ]
  },
  {
   "cell_type": "code",
   "execution_count": 3,
   "id": "dd1d5bd6-c676-4c28-bfd9-6f4eb58c976e",
   "metadata": {},
   "outputs": [
    {
     "data": {
      "text/plain": [
       "'\\nHere, the yield keyword is used to produce a value from the generator.\\nWhen the generator function is called, it does not execute the function body immediately. \\nInstead, it returns a generator object that can be iterated over to produce the values.\\n\\n'"
      ]
     },
     "execution_count": 3,
     "metadata": {},
     "output_type": "execute_result"
    }
   ],
   "source": [
    "#Q4.\n",
    "#Ans:-\n",
    "\n",
    "'''\n",
    "In Python, a generator is a function that returns an iterator that produces a sequence \n",
    "of values when iterated over.\n",
    "\n",
    "Generators are useful when we want to produce a large sequence of values,\n",
    "but we don't want to store all of them in memory at once.\n",
    "\n",
    "In Python, similar to defining a normal function, we can define a generator function \n",
    "using the def keyword, but instead of the return statement we use the yield statement.\n",
    "\n",
    "'''\n",
    "def generator_name(arg):\n",
    "    # statements\n",
    "    yield something\n",
    "    \n",
    "\"\"\"\n",
    "Here, the yield keyword is used to produce a value from the generator.\n",
    "When the generator function is called, it does not execute the function body immediately. \n",
    "Instead, it returns a generator object that can be iterated over to produce the values.\n",
    "\n",
    "\"\"\""
   ]
  },
  {
   "cell_type": "code",
   "execution_count": 2,
   "id": "55c23689-7bc3-439a-afbf-b0d0f3daeb82",
   "metadata": {},
   "outputs": [
    {
     "name": "stdout",
     "output_type": "stream",
     "text": [
      "0\n",
      "1\n",
      "2\n",
      "3\n",
      "4\n"
     ]
    }
   ],
   "source": [
    "# example of generator function\n",
    "\n",
    "def my_generator(n):\n",
    "    value = 0\n",
    "    while value < n:\n",
    "        yield value\n",
    "        value += 1\n",
    "\n",
    "for value in my_generator(5):\n",
    "    print(value)"
   ]
  },
  {
   "cell_type": "code",
   "execution_count": 4,
   "id": "83bd6614-d367-4e13-9d95-8807bb77fe72",
   "metadata": {},
   "outputs": [],
   "source": [
    "#Q5.Generator function that generates prime numbers less than 1000\n",
    "\n",
    "#Ans : -\n",
    "\n",
    "def prime_numbers():\n",
    "    primes = []\n",
    "    for num in range(2, 1000):\n",
    "        flag = True\n",
    "        for i in primes:\n",
    "            if num % i == 0:\n",
    "                flag = False\n",
    "                break\n",
    "        if flag:\n",
    "            primes.append(num)\n",
    "            yield num"
   ]
  },
  {
   "cell_type": "code",
   "execution_count": 5,
   "id": "c7ef170a-4031-4da2-812b-fa31a277677d",
   "metadata": {},
   "outputs": [
    {
     "name": "stdout",
     "output_type": "stream",
     "text": [
      "2\n",
      "3\n",
      "5\n",
      "7\n",
      "11\n",
      "13\n",
      "17\n",
      "19\n",
      "23\n",
      "29\n",
      "31\n",
      "37\n",
      "41\n",
      "43\n",
      "47\n",
      "53\n",
      "59\n",
      "61\n",
      "67\n",
      "71\n"
     ]
    }
   ],
   "source": [
    "generator = prime_numbers()\n",
    "for i in range(20):\n",
    "    print(next(generator))\n"
   ]
  },
  {
   "cell_type": "code",
   "execution_count": 6,
   "id": "e2c3dcd5-c091-44f8-86f3-d6bd9dccffa0",
   "metadata": {},
   "outputs": [
    {
     "name": "stdout",
     "output_type": "stream",
     "text": [
      "0\n",
      "1\n",
      "1\n",
      "2\n",
      "3\n",
      "5\n",
      "8\n",
      "13\n",
      "21\n",
      "34\n"
     ]
    }
   ],
   "source": [
    "#Q6. To print first 10 fibonacci numbers using while loop.\n",
    "\n",
    "#Ans:-\n",
    "\n",
    "num1, num2 = 0, 1\n",
    "count = 0\n",
    "while count < 10:\n",
    "    print(num1)\n",
    "    nth = num1 + num2 \n",
    "    num1 = num2\n",
    "    num2 = nth\n",
    "    count += 1"
   ]
  },
  {
   "cell_type": "code",
   "execution_count": 9,
   "id": "7b06383a-e611-454f-9774-704b6e900889",
   "metadata": {},
   "outputs": [
    {
     "data": {
      "text/plain": [
       "['P', 'W', 'S', 'K', 'I', 'L', 'L', 'S']"
      ]
     },
     "execution_count": 9,
     "metadata": {},
     "output_type": "execute_result"
    }
   ],
   "source": [
    "#Q7. list comprehension to iterate through the given string : 'pwskills'\n",
    "\n",
    "given = \"pwskills\"\n",
    "[i.upper() for i in given]"
   ]
  },
  {
   "cell_type": "code",
   "execution_count": 16,
   "id": "03aaa41b-8cf6-4d95-8f02-24d4f233b4e0",
   "metadata": {},
   "outputs": [
    {
     "name": "stdin",
     "output_type": "stream",
     "text": [
      "Enter numuber to check :  101\n"
     ]
    },
    {
     "name": "stdout",
     "output_type": "stream",
     "text": [
      "Pallindrome\n"
     ]
    }
   ],
   "source": [
    "#Q8. given number is palindrome or not using while loop\n",
    "\n",
    "num = int(input(\"Enter numuber to check : \"))\n",
    "temp = num\n",
    "reverse = 0\n",
    "while(num>0):\n",
    "    digit = num%10\n",
    "    reverse = reverse * 10 + digit\n",
    "    num = num//10\n",
    "if (temp == reverse):\n",
    "    print(\"Pallindrome\")\n",
    "else:\n",
    "    print(\"not pallindrome\")"
   ]
  },
  {
   "cell_type": "code",
   "execution_count": 32,
   "id": "551ef01d-4cbb-4120-82a0-8967141c64cf",
   "metadata": {},
   "outputs": [
    {
     "data": {
      "text/plain": [
       "[1,\n",
       " 3,\n",
       " 5,\n",
       " 7,\n",
       " 9,\n",
       " 11,\n",
       " 13,\n",
       " 15,\n",
       " 17,\n",
       " 19,\n",
       " 21,\n",
       " 23,\n",
       " 25,\n",
       " 27,\n",
       " 29,\n",
       " 31,\n",
       " 33,\n",
       " 35,\n",
       " 37,\n",
       " 39,\n",
       " 41,\n",
       " 43,\n",
       " 45,\n",
       " 47,\n",
       " 49,\n",
       " 51,\n",
       " 53,\n",
       " 55,\n",
       " 57,\n",
       " 59,\n",
       " 61,\n",
       " 63,\n",
       " 65,\n",
       " 67,\n",
       " 69,\n",
       " 71,\n",
       " 73,\n",
       " 75,\n",
       " 77,\n",
       " 79,\n",
       " 81,\n",
       " 83,\n",
       " 85,\n",
       " 87,\n",
       " 89,\n",
       " 91,\n",
       " 93,\n",
       " 95,\n",
       " 97,\n",
       " 99]"
      ]
     },
     "execution_count": 32,
     "metadata": {},
     "output_type": "execute_result"
    }
   ],
   "source": [
    "#Q8. odd numbers from 1 to 100 using list comprehension:\n",
    "\n",
    "[i for i in range(1,101) if i%2!=0]"
   ]
  },
  {
   "cell_type": "code",
   "execution_count": null,
   "id": "95b58f83-76e7-4de2-8684-0b6920cec93c",
   "metadata": {},
   "outputs": [],
   "source": []
  }
 ],
 "metadata": {
  "kernelspec": {
   "display_name": "Python 3 (ipykernel)",
   "language": "python",
   "name": "python3"
  },
  "language_info": {
   "codemirror_mode": {
    "name": "ipython",
    "version": 3
   },
   "file_extension": ".py",
   "mimetype": "text/x-python",
   "name": "python",
   "nbconvert_exporter": "python",
   "pygments_lexer": "ipython3",
   "version": "3.10.8"
  }
 },
 "nbformat": 4,
 "nbformat_minor": 5
}
